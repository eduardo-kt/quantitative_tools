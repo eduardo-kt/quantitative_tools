{
 "cells": [
  {
   "cell_type": "markdown",
   "metadata": {},
   "source": [
    "# Correlação iBov\n",
    "* Análise da correlação entre os ativos que compõem o iBovespa. \n",
    "* Fazer clusters com máxima correlação\n",
    "* Fazer um grafico de grupos (sunburst chart)"
   ]
  },
  {
   "cell_type": "markdown",
   "metadata": {},
   "source": [
    "## Bibliotecas"
   ]
  },
  {
   "cell_type": "code",
   "execution_count": 2,
   "metadata": {},
   "outputs": [],
   "source": [
    "import pandas as pd\n",
    "import numpy as np\n",
    "from pyvis.network import Network\n",
    "from leitoribov import leitor_ibov # leitoribov.py disponível em :\n",
    "import yfinance as yf"
   ]
  },
  {
   "cell_type": "markdown",
   "metadata": {},
   "source": [
    "## Importar os dados"
   ]
  },
  {
   "cell_type": "code",
   "execution_count": 5,
   "metadata": {},
   "outputs": [],
   "source": [
    "# obter tickers\n",
    "data, tickers = leitor_ibov('IBOVDia_11-01-24.csv')\n",
    "\n",
    "# formatar tickers\n",
    "stringticks = ' '.join(tickers)\n",
    "\n",
    "# obter dados dos tickers\n",
    "ibovdf = yf.download(tickers=stringticks,period='5y',interval='1d',auto_adjust= True)"
   ]
  },
  {
   "cell_type": "code",
   "execution_count": 52,
   "metadata": {},
   "outputs": [],
   "source": [
    "df = ibovdf.loc[:,('Close',slice(None))].dropna()\n",
    "correlation_matrix = df.corr()"
   ]
  }
 ],
 "metadata": {
  "kernelspec": {
   "display_name": "base",
   "language": "python",
   "name": "python3"
  },
  "language_info": {
   "codemirror_mode": {
    "name": "ipython",
    "version": 3
   },
   "file_extension": ".py",
   "mimetype": "text/x-python",
   "name": "python",
   "nbconvert_exporter": "python",
   "pygments_lexer": "ipython3",
   "version": "3.10.8"
  }
 },
 "nbformat": 4,
 "nbformat_minor": 2
}
